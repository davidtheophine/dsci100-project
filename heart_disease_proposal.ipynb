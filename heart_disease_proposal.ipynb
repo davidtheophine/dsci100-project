{
 "cells": [
  {
   "cell_type": "code",
   "execution_count": null,
   "id": "41b14a2f-f41e-45a1-ad06-c4566feea514",
   "metadata": {},
   "outputs": [],
   "source": []
  },
  {
   "cell_type": "markdown",
   "id": "db29395b-157c-482a-a0ec-dd1018cdf7ba",
   "metadata": {},
   "source": [
    "## 2. Preliminary Exploratory Data Analysis"
   ]
  },
  {
   "cell_type": "code",
   "execution_count": null,
   "id": "31ee7339-4cff-4476-ad28-47b52e4e1d4d",
   "metadata": {},
   "outputs": [],
   "source": [
    "library(tidyverse)\n",
    "library(ggplot2)"
   ]
  },
  {
   "cell_type": "code",
   "execution_count": null,
   "id": "610fcd24-192e-4805-ab6e-8aad00655e3d",
   "metadata": {},
   "outputs": [],
   "source": [
    "#let's read the data in from online\n",
    "heart_disease <- read_csv(\"https://archive.ics.uci.edu/ml/machine-learning-databases/heart-disease/processed.cleveland.data\")\n",
    "colnames(heart_disease) <- c(\"age\", \"sex\", \"chest_pain\", \"trest_bps\", \"chol\", \"fbs\", \"resting_ecg\", \n",
    "                             \"max_hr\", \"exer_agina\", \"depr_excer_vs_rest\", \"exercise_segment_slope\", \n",
    "                             \"num_major_vessels\", \"heart_condition\", \"heart_disease_diagnosis\")\n",
    "\n",
    "\n",
    "heart_disease"
   ]
  },
  {
   "cell_type": "code",
   "execution_count": null,
   "id": "3a355f47-5f0e-472f-aa9f-11075ce04bbe",
   "metadata": {},
   "outputs": [],
   "source": [
    "# Let's clean up the table by giving the categorical names to the values \n",
    "# of the variables which should be factors\n",
    "\n",
    "heart_disease <- heart_disease |>\n",
    "                mutate(sex = as.factor(sex)) |>\n",
    "                mutate(sex = fct_recode(sex, \"male\" = \"1\", \"female\" = \"0\"))\n",
    "\n",
    "heart_disease <- heart_disease |>\n",
    "                mutate(chest_pain = as.factor(chest_pain)) |>\n",
    "                mutate(chest_pain = fct_recode(chest_pain, \n",
    "                                               \"typical angina\" = \"1\", \"atypical angina\" = \"2\",\n",
    "                                              \"non-aginal pain\" = \"3\", \"asymptomatic\" = \"4\"))\n",
    "heart_disease |> distinct(heart_condition)\n",
    "\n",
    "heart_disease <- heart_disease |>\n",
    "                mutate(heart_condition = as.factor(heart_condition)) |>\n",
    "                mutate(heart_condition = fct_recode(heart_condition, \n",
    "                                               \"normal\" = \"3.0\", \"fixed defect\" = \"6.0\",\n",
    "                                              \"reversible defect\" = \"7.0\"))\n",
    "heart_disease <- heart_disease |>\n",
    "                mutate(exercise_segment_slope = as.factor(exercise_segment_slope)) |>\n",
    "                mutate(exercise_segment_slope = fct_recode(exercise_segment_slope, \n",
    "                                               \"unsloping\" = \"1\", \"flat\" = \"2\",\n",
    "                                              \"reversible defect\" = \"3\"))\n",
    "heart_disease <- heart_disease |>\n",
    "                mutate(heart_disease_diagnosis = as.factor(heart_disease_diagnosis)) |>\n",
    "                mutate(heart_disease_diagnosis = fct_recode(heart_disease_diagnosis, \n",
    "                                               \"no disease\" = \"0\", \"possible\" = \"1\",\n",
    "                                              \"likely\" = \"3\", \"certain\" = \"4\"))\n",
    "\n",
    "heart_disease <- heart_disease |>\n",
    "                mutate(heart_disease_diagnosis = as.factor(heart_disease_diagnosis))\n",
    "\n",
    "heart_disease"
   ]
  },
  {
   "cell_type": "code",
   "execution_count": null,
   "id": "fd8aae77-17a5-4c1a-8473-4e0517a800ff",
   "metadata": {},
   "outputs": [],
   "source": [
    "# we do not need all of these variables, so let's take the ones that seem most useful\n",
    "heart_disease_train <- heart_disease |>\n",
    "            select(age, chest_pain, trest_bps, chol, max_hr, depr_excer_vs_rest, heart_condition, heart_disease_diagnosis)\n",
    "\n",
    "heart_disease_train"
   ]
  },
  {
   "cell_type": "code",
   "execution_count": null,
   "id": "a377a574-1b7a-49ea-a9a9-7e298d04e71d",
   "metadata": {},
   "outputs": [],
   "source": [
    "#Now it is time for visualization! \n",
    "#Let's see a few different plots to see what the relationships within the data are.\n",
    "\n",
    "options(repr.plot.width = 10, repr.plot.height = 6)\n",
    "age_vs_max_hr <- heart_disease_train |>\n",
    "            ggplot(aes(x = age, y = max_hr, color = heart_disease_diagnosis)) +\n",
    "            geom_point() +\n",
    "            labs(title = \"Heart Conditions based on Maxiumum Heart Rate vs Age\",\n",
    "                x = \"Age (years)\", y = \"Maximum Heart Rate (bpm)\",\n",
    "                color = \"Heart Disease Diagionsis\") +\n",
    "            theme(text = element_text(size = 16))\n",
    "\n",
    "age_vs_max_hr"
   ]
  },
  {
   "cell_type": "code",
   "execution_count": null,
   "id": "b660c16e-b25a-4bdb-89a3-ab1e194e2c7d",
   "metadata": {},
   "outputs": [],
   "source": [
    "options(repr.plot.width = 10, repr.plot.height = 6)\n",
    "age_vs_max_hr <- heart_disease_train |>\n",
    "            ggplot(aes(x = age, y = max_hr, color = heart_disease_diagnosis)) +\n",
    "            geom_point() +\n",
    "            labs(title = \"Heart Conditions based on Maxiumum Heart Rate vs Age\",\n",
    "                x = \"Age (years)\", y = \"Maximum Heart Rate (bpm)\",\n",
    "                color = \"Heart Disease Diagionsis\") +\n",
    "            theme(text = element_text(size = 16))\n",
    "\n",
    "age_vs_max_hr"
   ]
  },
  {
   "cell_type": "code",
   "execution_count": null,
   "id": "a30fea4c-ace9-4c53-86fa-27a94b46f2ef",
   "metadata": {},
   "outputs": [],
   "source": [
    "options(repr.plot.width = 8, repr.plot.height = 6)\n",
    "\n",
    "chol_vs_trest_bps <- heart_disease_train |>\n",
    "            ggplot(aes(x = chol, y = trest_bps, color = heart_condition)) +\n",
    "            geom_point() +\n",
    "            labs(title = \"Heart Conditions based on Maxiumum Heart Rate vs Age\",\n",
    "                x = \"Cholesteral (mg/dl)\", y = \"Blood Pressure (mm Hg)\",\n",
    "                color = \"Heart Condition\") +\n",
    "            theme(text = element_text(size = 16))\n",
    "\n",
    "chol_vs_trest_bps"
   ]
  }
 ],
 "metadata": {
  "kernelspec": {
   "display_name": "R",
   "language": "R",
   "name": "ir"
  },
  "language_info": {
   "codemirror_mode": "r",
   "file_extension": ".r",
   "mimetype": "text/x-r-source",
   "name": "R",
   "pygments_lexer": "r",
   "version": "4.3.1"
  }
 },
 "nbformat": 4,
 "nbformat_minor": 5
}
